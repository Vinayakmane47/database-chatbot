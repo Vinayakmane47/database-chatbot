{
 "cells": [
  {
   "cell_type": "code",
   "execution_count": 1,
   "metadata": {},
   "outputs": [
    {
     "name": "stdout",
     "output_type": "stream",
     "text": [
      "hellow\n"
     ]
    }
   ],
   "source": [
    "print(\"hellow\")"
   ]
  },
  {
   "cell_type": "code",
   "execution_count": 10,
   "metadata": {},
   "outputs": [],
   "source": [
    "from lida import Manager\n",
    "lida = Manager()\n",
    "summary = lida.summarize(\"annual-enterprise-survey-2023-financial-year-provisional.csv\") # generate data summary"
   ]
  },
  {
   "cell_type": "code",
   "execution_count": 11,
   "metadata": {},
   "outputs": [
    {
     "data": {
      "text/plain": [
       "{'name': 'annual-enterprise-survey-2023-financial-year-provisional.csv',\n",
       " 'file_name': 'annual-enterprise-survey-2023-financial-year-provisional.csv',\n",
       " 'dataset_description': '',\n",
       " 'fields': [{'column': 'Year',\n",
       "   'properties': {'dtype': 'number',\n",
       "    'std': 3,\n",
       "    'min': 2013,\n",
       "    'max': 2023,\n",
       "    'samples': [2016, 2019, 2015],\n",
       "    'num_unique_values': 11,\n",
       "    'semantic_type': '',\n",
       "    'description': ''}},\n",
       "  {'column': 'Industry_aggregation_NZSIOC',\n",
       "   'properties': {'dtype': 'category',\n",
       "    'samples': ['Level 4', 'Level 3', 'Level 1'],\n",
       "    'num_unique_values': 3,\n",
       "    'semantic_type': '',\n",
       "    'description': ''}},\n",
       "  {'column': 'Industry_code_NZSIOC',\n",
       "   'properties': {'dtype': 'category',\n",
       "    'samples': ['AA31', 'RS', 'EE131'],\n",
       "    'num_unique_values': 139,\n",
       "    'semantic_type': '',\n",
       "    'description': ''}},\n",
       "  {'column': 'Industry_name_NZSIOC',\n",
       "   'properties': {'dtype': 'category',\n",
       "    'samples': ['Electronic and Electrical Equipment Manufacturing',\n",
       "     'All industries',\n",
       "     'Agriculture, Forestry and Fishing Support Services and Hunting'],\n",
       "    'num_unique_values': 119,\n",
       "    'semantic_type': '',\n",
       "    'description': ''}},\n",
       "  {'column': 'Units',\n",
       "   'properties': {'dtype': 'category',\n",
       "    'samples': ['Dollars (millions)', 'Percentage', 'Dollars'],\n",
       "    'num_unique_values': 3,\n",
       "    'semantic_type': '',\n",
       "    'description': ''}},\n",
       "  {'column': 'Variable_code',\n",
       "   'properties': {'dtype': 'category',\n",
       "    'samples': ['H31', 'H18', 'H01'],\n",
       "    'num_unique_values': 39,\n",
       "    'semantic_type': '',\n",
       "    'description': ''}},\n",
       "  {'column': 'Variable_name',\n",
       "   'properties': {'dtype': 'category',\n",
       "    'samples': ['Closing stocks',\n",
       "     'Interest, dividends and donations',\n",
       "     'Quick ratio'],\n",
       "    'num_unique_values': 41,\n",
       "    'semantic_type': '',\n",
       "    'description': ''}},\n",
       "  {'column': 'Variable_category',\n",
       "   'properties': {'dtype': 'category',\n",
       "    'samples': ['Financial performance',\n",
       "     'Financial position',\n",
       "     'Financial ratios'],\n",
       "    'num_unique_values': 3,\n",
       "    'semantic_type': '',\n",
       "    'description': ''}},\n",
       "  {'column': 'Value',\n",
       "   'properties': {'dtype': 'string',\n",
       "    'samples': ['231', '3,769', '47199'],\n",
       "    'num_unique_values': 2433,\n",
       "    'semantic_type': '',\n",
       "    'description': ''}},\n",
       "  {'column': 'Industry_code_ANZSIC06',\n",
       "   'properties': {'dtype': 'category',\n",
       "    'samples': ['ANZSIC06 groups A017, A018, and A019',\n",
       "     'ANZSIC06 division M',\n",
       "     'ANZSIC06 groups A042, A051, and A052'],\n",
       "    'num_unique_values': 121,\n",
       "    'semantic_type': '',\n",
       "    'description': ''}}],\n",
       " 'field_names': ['Year',\n",
       "  'Industry_aggregation_NZSIOC',\n",
       "  'Industry_code_NZSIOC',\n",
       "  'Industry_name_NZSIOC',\n",
       "  'Units',\n",
       "  'Variable_code',\n",
       "  'Variable_name',\n",
       "  'Variable_category',\n",
       "  'Value',\n",
       "  'Industry_code_ANZSIC06']}"
      ]
     },
     "execution_count": 11,
     "metadata": {},
     "output_type": "execute_result"
    }
   ],
   "source": [
    "summary"
   ]
  },
  {
   "cell_type": "code",
   "execution_count": 12,
   "metadata": {},
   "outputs": [],
   "source": [
    "goals = lida.goals(summary, n=5, persona=\"ceo with aerodynamics background\") # generate goals"
   ]
  },
  {
   "cell_type": "code",
   "execution_count": 15,
   "metadata": {},
   "outputs": [
    {
     "data": {
      "text/plain": [
       "[Goal(question='How does the financial performance vary across different industries?', visualization='Bar chart of Industry_name_NZSIOC vs. Value', rationale='By comparing the financial performance (Value) of different industries, the CEO with an aerodynamics background can identify which industries are performing well financially and potentially explore opportunities for investment or collaboration.', index=0),\n",
       " Goal(question='What are the top financial ratios in terms of value?', visualization='Bar chart of Variable_name vs. Value', rationale=\"By visualizing the top financial ratios based on their values, the CEO can prioritize areas of financial analysis and decision-making to improve the company's financial health.\", index=1),\n",
       " Goal(question='How has the quick ratio changed over the years?', visualization='Line chart of Year vs. Value (filtered for Quick ratio)', rationale=\"Tracking the changes in the quick ratio over time can provide insights into the company's liquidity and ability to meet short-term obligations, which is crucial for strategic financial planning.\", index=2),\n",
       " Goal(question='Which industry category has the highest closing stocks in dollars?', visualization='Bar chart of Industry_aggregation_NZSIOC vs. Value (filtered for Closing stocks and Dollars)', rationale=\"Comparing the closing stocks in dollars across different industry categories can help the CEO understand where the company's assets are concentrated and make informed decisions about inventory management.\", index=3),\n",
       " Goal(question='What is the distribution of financial position values in percentage?', visualization='Histogram of Value (filtered for Financial position and Percentage)', rationale=\"Analyzing the distribution of financial position values in percentage can provide insights into the company's overall financial stability and risk exposure, guiding strategic financial planning decisions.\", index=4)]"
      ]
     },
     "execution_count": 15,
     "metadata": {},
     "output_type": "execute_result"
    }
   ],
   "source": [
    "goals"
   ]
  },
  {
   "cell_type": "code",
   "execution_count": 22,
   "metadata": {},
   "outputs": [
    {
     "name": "stdout",
     "output_type": "stream",
     "text": [
      "```python\n",
      "import matplotlib.pyplot as plt\n",
      "import pandas as pd\n",
      "\n",
      "# plan -\n",
      "def plot(data: pd.DataFrame):\n",
      "    top_ratios = data.groupby('Variable_name')['Value'].sum().nlargest(5)\n",
      "    top_ratios.plot(kind='bar', color='skyblue')\n",
      "    plt.xlabel('Financial Ratios')\n",
      "    plt.ylabel('Total Value')\n",
      "    plt.axhline(top_ratios.mean(), color='red', linestyle='--', label=f'Mean: {top_ratios.mean():.2f}')\n",
      "    plt.legend()\n",
      "    plt.title('What are the top financial ratios in terms of value?', wrap=True)\n",
      "    return plt;\n",
      "\n",
      "chart = plot(data) # data already contains the data to be plotted. Always include this line. No additional code beyond this line. \n",
      "```\n",
      "****\n",
      " Cannot use method 'nlargest' with dtype object\n"
     ]
    }
   ],
   "source": [
    "# generate charts (generate and execute visualization code)\n",
    "charts = lida.visualize(summary=summary, goal=goals[1], library=\"matplotlib\") # seaborn, ggplot .."
   ]
  },
  {
   "cell_type": "code",
   "execution_count": 23,
   "metadata": {},
   "outputs": [
    {
     "data": {
      "text/plain": [
       "[]"
      ]
     },
     "execution_count": 23,
     "metadata": {},
     "output_type": "execute_result"
    }
   ],
   "source": [
    "charts"
   ]
  },
  {
   "cell_type": "code",
   "execution_count": null,
   "metadata": {},
   "outputs": [],
   "source": []
  },
  {
   "cell_type": "code",
   "execution_count": null,
   "metadata": {},
   "outputs": [],
   "source": []
  },
  {
   "cell_type": "code",
   "execution_count": null,
   "metadata": {},
   "outputs": [],
   "source": []
  }
 ],
 "metadata": {
  "kernelspec": {
   "display_name": "Python 3",
   "language": "python",
   "name": "python3"
  },
  "language_info": {
   "codemirror_mode": {
    "name": "ipython",
    "version": 3
   },
   "file_extension": ".py",
   "mimetype": "text/x-python",
   "name": "python",
   "nbconvert_exporter": "python",
   "pygments_lexer": "ipython3",
   "version": "3.10.0"
  }
 },
 "nbformat": 4,
 "nbformat_minor": 2
}
