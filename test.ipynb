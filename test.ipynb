{
 "cells": [
  {
   "cell_type": "code",
   "execution_count": 1,
   "metadata": {},
   "outputs": [
    {
     "name": "stderr",
     "output_type": "stream",
     "text": [
      "/Users/vinayak/AI/projects/mysql-chatbot-openai/mysql_chat/lib/python3.10/site-packages/langchain_core/_api/deprecation.py:117: LangChainDeprecationWarning: The class `langchain_community.chat_models.openai.ChatOpenAI` was deprecated in langchain-community 0.0.10 and will be removed in 0.2.0. An updated version of the class exists in the langchain-openai package and should be used instead. To use it run `pip install -U langchain-openai` and import as `from langchain_openai import ChatOpenAI`.\n",
      "  warn_deprecated(\n"
     ]
    },
    {
     "data": {
      "text/plain": [
       "AIMessage(content=\"J'adore la programmation.\")"
      ]
     },
     "execution_count": 1,
     "metadata": {},
     "output_type": "execute_result"
    }
   ],
   "source": [
    "from langchain.chat_models import ChatOpenAI\n",
    "\n",
    "from dotenv import load_dotenv\n",
    "load_dotenv()\n",
    "llm2 = ChatOpenAI()\n",
    "\n",
    "messages = [\n",
    "    (\n",
    "        \"system\",\n",
    "        \"You are a helpful assistant that translates English to French. Translate the user sentence.\",\n",
    "    ),\n",
    "    (\"human\", \"I love programming.\"),\n",
    "]\n",
    "ai_msg = llm2.invoke(messages)\n",
    "ai_msg\n"
   ]
  },
  {
   "cell_type": "code",
   "execution_count": null,
   "metadata": {},
   "outputs": [],
   "source": []
  },
  {
   "cell_type": "code",
   "execution_count": 54,
   "metadata": {},
   "outputs": [
    {
     "name": "stdout",
     "output_type": "stream",
     "text": [
      "mysql\n",
      "['customers', 'employees', 'offices', 'orderdetails', 'orders', 'payments', 'productlines', 'products']\n",
      "\n",
      "CREATE TABLE customers (\n",
      "\t`customerNumber` INTEGER NOT NULL, \n",
      "\t`customerName` VARCHAR(50) NOT NULL, \n",
      "\t`contactLastName` VARCHAR(50) NOT NULL, \n",
      "\t`contactFirstName` VARCHAR(50) NOT NULL, \n",
      "\tphone VARCHAR(50) NOT NULL, \n",
      "\t`addressLine1` VARCHAR(50) NOT NULL, \n",
      "\t`addressLine2` VARCHAR(50), \n",
      "\tcity VARCHAR(50) NOT NULL, \n",
      "\tstate VARCHAR(50), \n",
      "\t`postalCode` VARCHAR(15), \n",
      "\tcountry VARCHAR(50) NOT NULL, \n",
      "\t`salesRepEmployeeNumber` INTEGER, \n",
      "\t`creditLimit` DECIMAL(10, 2), \n",
      "\tPRIMARY KEY (`customerNumber`), \n",
      "\tCONSTRAINT customers_ibfk_1 FOREIGN KEY(`salesRepEmployeeNumber`) REFERENCES employees (`employeeNumber`)\n",
      ")ENGINE=InnoDB COLLATE utf8mb4_0900_ai_ci DEFAULT CHARSET=utf8mb4\n",
      "\n",
      "/*\n",
      "3 rows from customers table:\n",
      "customerNumber\tcustomerName\tcontactLastName\tcontactFirstName\tphone\taddressLine1\taddressLine2\tcity\tstate\tpostalCode\tcountry\tsalesRepEmployeeNumber\tcreditLimit\n",
      "103\tAtelier graphique\tSchmitt\tCarine \t40.32.2555\t54, rue Royale\tNone\tNantes\tNone\t44000\tFrance\t1370\t21000.00\n",
      "112\tSignal Gift Stores\tKing\tJean\t7025551838\t8489 Strong St.\tNone\tLas Vegas\tNV\t83030\tUSA\t1166\t71800.00\n",
      "114\tAustralian Collectors, Co.\tFerguson\tPeter\t03 9520 4555\t636 St Kilda Road\tLevel 3\tMelbourne\tVictoria\t3004\tAustralia\t1611\t117300.00\n",
      "*/\n",
      "\n",
      "\n",
      "CREATE TABLE employees (\n",
      "\t`employeeNumber` INTEGER NOT NULL, \n",
      "\t`lastName` VARCHAR(50) NOT NULL, \n",
      "\t`firstName` VARCHAR(50) NOT NULL, \n",
      "\textension VARCHAR(10) NOT NULL, \n",
      "\temail VARCHAR(100) NOT NULL, \n",
      "\t`officeCode` VARCHAR(10) NOT NULL, \n",
      "\t`reportsTo` INTEGER, \n",
      "\t`jobTitle` VARCHAR(50) NOT NULL, \n",
      "\tPRIMARY KEY (`employeeNumber`), \n",
      "\tCONSTRAINT employees_ibfk_1 FOREIGN KEY(`reportsTo`) REFERENCES employees (`employeeNumber`), \n",
      "\tCONSTRAINT employees_ibfk_2 FOREIGN KEY(`officeCode`) REFERENCES offices (`officeCode`)\n",
      ")ENGINE=InnoDB COLLATE utf8mb4_0900_ai_ci DEFAULT CHARSET=utf8mb4\n",
      "\n",
      "/*\n",
      "3 rows from employees table:\n",
      "employeeNumber\tlastName\tfirstName\textension\temail\tofficeCode\treportsTo\tjobTitle\n",
      "1002\tMurphy\tDiane\tx5800\tdmurphy@classicmodelcars.com\t1\tNone\tPresident\n",
      "1056\tPatterson\tMary\tx4611\tmpatterso@classicmodelcars.com\t1\t1002\tVP Sales\n",
      "1076\tFirrelli\tJeff\tx9273\tjfirrelli@classicmodelcars.com\t1\t1002\tVP Marketing\n",
      "*/\n",
      "\n",
      "\n",
      "CREATE TABLE offices (\n",
      "\t`officeCode` VARCHAR(10) NOT NULL, \n",
      "\tcity VARCHAR(50) NOT NULL, \n",
      "\tphone VARCHAR(50) NOT NULL, \n",
      "\t`addressLine1` VARCHAR(50) NOT NULL, \n",
      "\t`addressLine2` VARCHAR(50), \n",
      "\tstate VARCHAR(50), \n",
      "\tcountry VARCHAR(50) NOT NULL, \n",
      "\t`postalCode` VARCHAR(15) NOT NULL, \n",
      "\tterritory VARCHAR(10) NOT NULL, \n",
      "\tPRIMARY KEY (`officeCode`)\n",
      ")ENGINE=InnoDB COLLATE utf8mb4_0900_ai_ci DEFAULT CHARSET=utf8mb4\n",
      "\n",
      "/*\n",
      "3 rows from offices table:\n",
      "officeCode\tcity\tphone\taddressLine1\taddressLine2\tstate\tcountry\tpostalCode\tterritory\n",
      "1\tSan Francisco\t+1 650 219 4782\t100 Market Street\tSuite 300\tCA\tUSA\t94080\tNA\n",
      "2\tBoston\t+1 215 837 0825\t1550 Court Place\tSuite 102\tMA\tUSA\t02107\tNA\n",
      "3\tNYC\t+1 212 555 3000\t523 East 53rd Street\tapt. 5A\tNY\tUSA\t10022\tNA\n",
      "*/\n",
      "\n",
      "\n",
      "CREATE TABLE orderdetails (\n",
      "\t`orderNumber` INTEGER NOT NULL, \n",
      "\t`productCode` VARCHAR(15) NOT NULL, \n",
      "\t`quantityOrdered` INTEGER NOT NULL, \n",
      "\t`priceEach` DECIMAL(10, 2) NOT NULL, \n",
      "\t`orderLineNumber` SMALLINT NOT NULL, \n",
      "\tPRIMARY KEY (`orderNumber`, `productCode`), \n",
      "\tCONSTRAINT orderdetails_ibfk_1 FOREIGN KEY(`orderNumber`) REFERENCES orders (`orderNumber`), \n",
      "\tCONSTRAINT orderdetails_ibfk_2 FOREIGN KEY(`productCode`) REFERENCES products (`productCode`)\n",
      ")ENGINE=InnoDB COLLATE utf8mb4_0900_ai_ci DEFAULT CHARSET=utf8mb4\n",
      "\n",
      "/*\n",
      "3 rows from orderdetails table:\n",
      "orderNumber\tproductCode\tquantityOrdered\tpriceEach\torderLineNumber\n",
      "10100\tS18_1749\t30\t136.00\t3\n",
      "10100\tS18_2248\t50\t55.09\t2\n",
      "10100\tS18_4409\t22\t75.46\t4\n",
      "*/\n",
      "\n",
      "\n",
      "CREATE TABLE orders (\n",
      "\t`orderNumber` INTEGER NOT NULL, \n",
      "\t`orderDate` DATE NOT NULL, \n",
      "\t`requiredDate` DATE NOT NULL, \n",
      "\t`shippedDate` DATE, \n",
      "\tstatus VARCHAR(15) NOT NULL, \n",
      "\tcomments TEXT, \n",
      "\t`customerNumber` INTEGER NOT NULL, \n",
      "\tPRIMARY KEY (`orderNumber`), \n",
      "\tCONSTRAINT orders_ibfk_1 FOREIGN KEY(`customerNumber`) REFERENCES customers (`customerNumber`)\n",
      ")ENGINE=InnoDB COLLATE utf8mb4_0900_ai_ci DEFAULT CHARSET=utf8mb4\n",
      "\n",
      "/*\n",
      "3 rows from orders table:\n",
      "orderNumber\torderDate\trequiredDate\tshippedDate\tstatus\tcomments\tcustomerNumber\n",
      "10100\t2003-01-06\t2003-01-13\t2003-01-10\tShipped\tNone\t363\n",
      "10101\t2003-01-09\t2003-01-18\t2003-01-11\tShipped\tCheck on availability.\t128\n",
      "10102\t2003-01-10\t2003-01-18\t2003-01-14\tShipped\tNone\t181\n",
      "*/\n",
      "\n",
      "\n",
      "CREATE TABLE payments (\n",
      "\t`customerNumber` INTEGER NOT NULL, \n",
      "\t`checkNumber` VARCHAR(50) NOT NULL, \n",
      "\t`paymentDate` DATE NOT NULL, \n",
      "\tamount DECIMAL(10, 2) NOT NULL, \n",
      "\tPRIMARY KEY (`customerNumber`, `checkNumber`), \n",
      "\tCONSTRAINT payments_ibfk_1 FOREIGN KEY(`customerNumber`) REFERENCES customers (`customerNumber`)\n",
      ")ENGINE=InnoDB COLLATE utf8mb4_0900_ai_ci DEFAULT CHARSET=utf8mb4\n",
      "\n",
      "/*\n",
      "3 rows from payments table:\n",
      "customerNumber\tcheckNumber\tpaymentDate\tamount\n",
      "103\tHQ336336\t2004-10-19\t6066.78\n",
      "103\tJM555205\t2003-06-05\t14571.44\n",
      "103\tOM314933\t2004-12-18\t1676.14\n",
      "*/\n",
      "\n",
      "\n",
      "CREATE TABLE productlines (\n",
      "\t`productLine` VARCHAR(50) NOT NULL, \n",
      "\t`textDescription` VARCHAR(4000), \n",
      "\t`htmlDescription` MEDIUMTEXT, \n",
      "\timage MEDIUMBLOB, \n",
      "\tPRIMARY KEY (`productLine`)\n",
      ")ENGINE=InnoDB COLLATE utf8mb4_0900_ai_ci DEFAULT CHARSET=utf8mb4\n",
      "\n",
      "/*\n",
      "3 rows from productlines table:\n",
      "productLine\ttextDescription\thtmlDescription\timage\n",
      "Classic Cars\tAttention car enthusiasts: Make your wildest car ownership dreams come true. Whether you are looking\tNone\tNone\n",
      "Motorcycles\tOur motorcycles are state of the art replicas of classic as well as contemporary motorcycle legends \tNone\tNone\n",
      "Planes\tUnique, diecast airplane and helicopter replicas suitable for collections, as well as home, office o\tNone\tNone\n",
      "*/\n",
      "\n",
      "\n",
      "CREATE TABLE products (\n",
      "\t`productCode` VARCHAR(15) NOT NULL, \n",
      "\t`productName` VARCHAR(70) NOT NULL, \n",
      "\t`productLine` VARCHAR(50) NOT NULL, \n",
      "\t`productScale` VARCHAR(10) NOT NULL, \n",
      "\t`productVendor` VARCHAR(50) NOT NULL, \n",
      "\t`productDescription` TEXT NOT NULL, \n",
      "\t`quantityInStock` SMALLINT NOT NULL, \n",
      "\t`buyPrice` DECIMAL(10, 2) NOT NULL, \n",
      "\t`MSRP` DECIMAL(10, 2) NOT NULL, \n",
      "\tPRIMARY KEY (`productCode`), \n",
      "\tCONSTRAINT products_ibfk_1 FOREIGN KEY(`productLine`) REFERENCES productlines (`productLine`)\n",
      ")ENGINE=InnoDB COLLATE utf8mb4_0900_ai_ci DEFAULT CHARSET=utf8mb4\n",
      "\n",
      "/*\n",
      "3 rows from products table:\n",
      "productCode\tproductName\tproductLine\tproductScale\tproductVendor\tproductDescription\tquantityInStock\tbuyPrice\tMSRP\n",
      "S10_1678\t1969 Harley Davidson Ultimate Chopper\tMotorcycles\t1:10\tMin Lin Diecast\tThis replica features working kickstand, front suspension, gear-shift lever, footbrake lever, drive \t7933\t48.81\t95.70\n",
      "S10_1949\t1952 Alpine Renault 1300\tClassic Cars\t1:10\tClassic Metal Creations\tTurnable front wheels; steering function; detailed interior; detailed engine; opening hood; opening \t7305\t98.58\t214.30\n",
      "S10_2016\t1996 Moto Guzzi 1100i\tMotorcycles\t1:10\tHighway 66 Mini Classics\tOfficial Moto Guzzi logos and insignias, saddle bags located on side of motorcycle, detailed engine,\t6625\t68.99\t118.94\n",
      "*/\n"
     ]
    }
   ],
   "source": [
    "import os\n",
    "from dotenv import load_dotenv\n",
    "\n",
    "load_dotenv()\n",
    "db_user = \"root\"\n",
    "db_password = \"sak$103138\"\n",
    "db_host = \"localhost\"\n",
    "db_name = \"classicmodels\"\n",
    "from langchain_community.utilities.sql_database import SQLDatabase\n",
    "# db = SQLDatabase.from_uri(f\"mysql+pymysql://{db_user}:{db_password}@{db_host}/{db_name}\",sample_rows_in_table_info=1,include_tables=['customers','orders'],custom_table_info={'customers':\"customer\"})\n",
    "db = SQLDatabase.from_uri(f\"mysql+pymysql://{db_user}:{db_password}@{db_host}/{db_name}\")\n",
    "print(db.dialect)\n",
    "print(db.get_usable_table_names())\n",
    "print(db.table_info)\n"
   ]
  },
  {
   "cell_type": "code",
   "execution_count": null,
   "metadata": {},
   "outputs": [],
   "source": []
  },
  {
   "cell_type": "code",
   "execution_count": 55,
   "metadata": {},
   "outputs": [
    {
     "name": "stdout",
     "output_type": "stream",
     "text": [
      "what is price of 1968 Ford Mustang\n",
      "SELECT `buyPrice`, `MSRP`\n",
      "FROM products\n",
      "WHERE `productName` = '1968 Ford Mustang'\n",
      "LIMIT 1;\n"
     ]
    }
   ],
   "source": [
    "from langchain.chains import create_sql_query_chain\n",
    "from langchain_groq import ChatGroq\n",
    "from langchain_openai import ChatOpenAI\n",
    "\n",
    "question = \"what is price of 1968 Ford Mustang\"\n",
    "encoded_query = question.encode('utf-8', errors='replace').decode('utf-8')\n",
    "print(encoded_query)\n",
    "#llm = ChatGroq(temperature=0)\n",
    "llm = ChatOpenAI(temperature=0)\n",
    "generate_query = create_sql_query_chain(llm, db)\n",
    "query = generate_query.invoke({\"question\": encoded_query})\n",
    "# \"what is price of `1968 Ford Mustang`\"\n",
    "print(query)\n"
   ]
  },
  {
   "cell_type": "code",
   "execution_count": 56,
   "metadata": {},
   "outputs": [
    {
     "data": {
      "text/plain": [
       "\"[(Decimal('95.34'), Decimal('194.57'))]\""
      ]
     },
     "execution_count": 56,
     "metadata": {},
     "output_type": "execute_result"
    }
   ],
   "source": [
    "from langchain_community.tools.sql_database.tool import QuerySQLDataBaseTool\n",
    "execute_query = QuerySQLDataBaseTool(db=db)\n",
    "execute_query.invoke(query)\n"
   ]
  },
  {
   "cell_type": "code",
   "execution_count": 57,
   "metadata": {},
   "outputs": [
    {
     "data": {
      "text/plain": [
       "'[(326,)]'"
      ]
     },
     "execution_count": 57,
     "metadata": {},
     "output_type": "execute_result"
    }
   ],
   "source": [
    "chain = generate_query | execute_query \n",
    "chain.invoke({\"question\":\"How many orders are there\"})"
   ]
  },
  {
   "cell_type": "code",
   "execution_count": 58,
   "metadata": {},
   "outputs": [
    {
     "name": "stdout",
     "output_type": "stream",
     "text": [
      "There are 2 customers who have an order count greater than 5.\n",
      "\n",
      "| customerCount |\n",
      "|---------------|\n",
      "|       1       |\n",
      "|       1       |\n",
      "The customer table with 5 rows is displayed below:\n",
      "\n",
      "| CustomerNumber | CustomerName            | ContactLastName | ContactFirstName | Phone      | Address                  | City    | State | PostalCode | Country    | SalesRepEmployeeNumber | CreditLimit |\n",
      "|----------------|-------------------------|-----------------|------------------|------------|--------------------------|---------|-------|------------|------------|------------------------|-------------|\n",
      "| 103            | Atelier graphique       | Schmitt         | Carine           | 40.32.2555 | 54, rue Royale           | Nantes  |       | 44000      | France     | 1370                   | 21000.00    |\n",
      "| 112            | Signal Gift Stores      | King            | Jean             | 7025551838 | 8489 Strong St.          | Las Vegas| NV    | 83030      | USA        | 1166                   | 71800.00    |\n",
      "| 114            | Australian Collectors, Co.| Ferguson       | Peter            | 03 9520 4555| 636 St Kilda Road         | Melbourne| Victoria| 3004     | Australia  | 1611                   | 117300.00   |\n",
      "| 119            | La Rochelle Gifts       | Labrune         | Janine           | 40.67.8555 | 67, rue des Cinquante Otages| Nantes|       | 44000      | France     | 1370                   | 118200.00   |\n",
      "| 121            | Baane Mini Imports      | Bergulfsen      | Jonas            | 07-98 9555 | Erling Skakkes gate 78    | Stavern |       | 4110       | Norway     | 1504                   | 81700.00    |\n"
     ]
    }
   ],
   "source": [
    "from operator import itemgetter\n",
    "\n",
    "from langchain_core.output_parsers import StrOutputParser\n",
    "from langchain_core.prompts import PromptTemplate\n",
    "from langchain_core.runnables import RunnablePassthrough\n",
    "\n",
    "answer_prompt = PromptTemplate.from_template(\n",
    "    \"\"\"Given the following user question, corresponding SQL query, and SQL result, answer the user question and also display the answer in form of table in markdown.\n",
    "\n",
    "Question: {question}\n",
    "SQL Query: {query}\n",
    "SQL Result: {result}\n",
    "Answer: \"\"\"\n",
    ")\n",
    "\n",
    "rephrase_answer = answer_prompt | llm | StrOutputParser()\n",
    "\n",
    "chain = (\n",
    "    RunnablePassthrough.assign(query=generate_query).assign(\n",
    "        result=itemgetter(\"query\") | execute_query\n",
    "    )\n",
    "    | rephrase_answer\n",
    ")\n",
    "\n",
    "print(chain.invoke({\"question\": \"How many customers have an order count greater than 5\"}))\n",
    "print(chain.invoke({\"question\": \"Display the customer tables with 5 rows\"}))\n"
   ]
  },
  {
   "cell_type": "markdown",
   "metadata": {},
   "source": [
    "## Few shot prompting technique \n"
   ]
  },
  {
   "cell_type": "code",
   "execution_count": 59,
   "metadata": {},
   "outputs": [],
   "source": [
    "examples = [\n",
    "    {\n",
    "        \"input\": \"List all employees who were hired after January 1, 2003.\",\n",
    "        \"query\": \"SELECT employeeNumber, lastName, firstName, hireDate \\\n",
    "                   FROM employees \\\n",
    "                   WHERE hireDate > '2003-01-01';\"\n",
    "    },\n",
    "    {\n",
    "        \"input\": \"Find the total sales amount for each product.\",\n",
    "        \"query\": \"SELECT productName, SUM(orderdetails.priceEach * orderdetails.quantityOrdered) AS totalSales \\\n",
    "                   FROM products \\\n",
    "                   JOIN orderdetails ON products.productCode = orderdetails.productCode \\\n",
    "                   GROUP BY productName;\"\n",
    "    },\n",
    "    {\n",
    "        \"input\": \"List all customers located in Australia.\",\n",
    "        \"query\": \"SELECT customerName, contactLastName, contactFirstName, phone \\\n",
    "                   FROM customers \\\n",
    "                   WHERE country = 'Australia';\"\n",
    "    },\n",
    "    {\n",
    "        \"input\": \"Get the number of orders placed by each customer.\",\n",
    "        \"query\": \"SELECT customerName, COUNT(*) AS totalOrders \\\n",
    "                   FROM customers \\\n",
    "                   JOIN orders ON customers.customerNumber = orders.customerNumber \\\n",
    "                   GROUP BY customerName;\"\n",
    "    },\n",
    "    {\n",
    "        \"input\": \"Find the top 5 customers with the highest credit limits.\",\n",
    "        \"query\": \"SELECT customerName, creditLimit \\\n",
    "                   FROM customers \\\n",
    "                   ORDER BY creditLimit DESC \\\n",
    "                   LIMIT 5;\"\n",
    "    }\n",
    "\n",
    "    \n",
    "]\n",
    "\n"
   ]
  },
  {
   "cell_type": "code",
   "execution_count": 60,
   "metadata": {},
   "outputs": [
    {
     "name": "stdout",
     "output_type": "stream",
     "text": [
      "Human: List all employees who were hired after January 1, 2003.\n",
      "SQLQuery:\n",
      "AI: SELECT employeeNumber, lastName, firstName, hireDate                    FROM employees                    WHERE hireDate > '2003-01-01';\n",
      "Human: Find the total sales amount for each product.\n",
      "SQLQuery:\n",
      "AI: SELECT productName, SUM(orderdetails.priceEach * orderdetails.quantityOrdered) AS totalSales                    FROM products                    JOIN orderdetails ON products.productCode = orderdetails.productCode                    GROUP BY productName;\n",
      "Human: List all customers located in Australia.\n",
      "SQLQuery:\n",
      "AI: SELECT customerName, contactLastName, contactFirstName, phone                    FROM customers                    WHERE country = 'Australia';\n",
      "Human: Get the number of orders placed by each customer.\n",
      "SQLQuery:\n",
      "AI: SELECT customerName, COUNT(*) AS totalOrders                    FROM customers                    JOIN orders ON customers.customerNumber = orders.customerNumber                    GROUP BY customerName;\n",
      "Human: Find the top 5 customers with the highest credit limits.\n",
      "SQLQuery:\n",
      "AI: SELECT customerName, creditLimit                    FROM customers                    ORDER BY creditLimit DESC                    LIMIT 5;\n"
     ]
    }
   ],
   "source": [
    "from langchain_core.prompts import ChatPromptTemplate, MessagesPlaceholder,FewShotChatMessagePromptTemplate,PromptTemplate\n",
    "\n",
    "example_prompt = ChatPromptTemplate.from_messages(\n",
    "    [\n",
    "        (\"human\", \"{input}\\nSQLQuery:\"),\n",
    "        (\"ai\", \"{query}\"),\n",
    "    ]\n",
    ")\n",
    "few_shot_prompt = FewShotChatMessagePromptTemplate(\n",
    "    example_prompt=example_prompt,\n",
    "    examples=examples,\n",
    "    # input_variables=[\"input\",\"top_k\"],\n",
    "    input_variables=[\"input\"],\n",
    ")\n",
    "print(few_shot_prompt.format(input=\"How many products are there?\"))\n"
   ]
  },
  {
   "cell_type": "code",
   "execution_count": 61,
   "metadata": {},
   "outputs": [
    {
     "name": "stdout",
     "output_type": "stream",
     "text": [
      "Human: Find the total sales amount for each product.\n",
      "SQLQuery:\n",
      "AI: SELECT productName, SUM(orderdetails.priceEach * orderdetails.quantityOrdered) AS totalSales                    FROM products                    JOIN orderdetails ON products.productCode = orderdetails.productCode                    GROUP BY productName;\n",
      "Human: Get the number of orders placed by each customer.\n",
      "SQLQuery:\n",
      "AI: SELECT customerName, COUNT(*) AS totalOrders                    FROM customers                    JOIN orders ON customers.customerNumber = orders.customerNumber                    GROUP BY customerName;\n"
     ]
    }
   ],
   "source": [
    "from langchain_community.vectorstores import Chroma\n",
    "from langchain_core.example_selectors import SemanticSimilarityExampleSelector\n",
    "from langchain_openai import OpenAIEmbeddings\n",
    "\n",
    "vectorstore = Chroma()\n",
    "vectorstore.delete_collection()\n",
    "example_selector = SemanticSimilarityExampleSelector.from_examples(\n",
    "    examples,\n",
    "    OpenAIEmbeddings(),\n",
    "    vectorstore,\n",
    "    k=2,\n",
    "    input_keys=[\"input\"],\n",
    ")\n",
    "example_selector.select_examples({\"input\": \"how many employees we have?\"})\n",
    "few_shot_prompt = FewShotChatMessagePromptTemplate(\n",
    "    example_prompt=example_prompt,\n",
    "    example_selector=example_selector,\n",
    "    input_variables=[\"input\",\"top_k\"],\n",
    ")\n",
    "print(few_shot_prompt.format(input=\"How many products are there?\"))\n"
   ]
  },
  {
   "cell_type": "code",
   "execution_count": 65,
   "metadata": {},
   "outputs": [
    {
     "name": "stdout",
     "output_type": "stream",
     "text": [
      "System: You are a MySQL expert. Given an input question, create a syntactically correct MySQL query to run. Unless otherwise specificed.\n",
      "\n",
      "Here is the relevant table info: some table info\n",
      "\n",
      "Below are a number of examples of questions and their corresponding SQL queries.\n",
      "Human: Find the total sales amount for each product.\n",
      "SQLQuery:\n",
      "AI: SELECT productName, SUM(orderdetails.priceEach * orderdetails.quantityOrdered) AS totalSales                    FROM products                    JOIN orderdetails ON products.productCode = orderdetails.productCode                    GROUP BY productName;\n",
      "Human: Get the number of orders placed by each customer.\n",
      "SQLQuery:\n",
      "AI: SELECT customerName, COUNT(*) AS totalOrders                    FROM customers                    JOIN orders ON customers.customerNumber = orders.customerNumber                    GROUP BY customerName;\n",
      "Human: How many products are there?\n",
      "There are 85 customers with a credit limit greater than 50000.\n",
      "\n",
      "| customersCount |\n",
      "|----------------|\n",
      "|       85       |\n"
     ]
    }
   ],
   "source": [
    "final_prompt = ChatPromptTemplate.from_messages(\n",
    "    [\n",
    "        (\"system\", \"You are a MySQL expert. Given an input question, create a syntactically correct MySQL query to run. Unless otherwise specificed.\\n\\nHere is the relevant table info: {table_info}\\n\\nBelow are a number of examples of questions and their corresponding SQL queries.\"),\n",
    "        few_shot_prompt,\n",
    "        (\"human\", \"{input}\"),\n",
    "    ]\n",
    ")\n",
    "print(final_prompt.format(input=\"How many products are there?\",table_info=\"some table info\"))\n",
    "generate_query = create_sql_query_chain(llm, db,final_prompt)\n",
    "chain = (\n",
    "RunnablePassthrough.assign(query=generate_query).assign(\n",
    "    result=itemgetter(\"query\") | execute_query\n",
    ")\n",
    "| rephrase_answer\n",
    ")\n",
    "print(chain.invoke({\"question\": \"How many csutomers with credit limit more than 50000\"}))\n"
   ]
  },
  {
   "cell_type": "code",
   "execution_count": 66,
   "metadata": {},
   "outputs": [
    {
     "name": "stdout",
     "output_type": "stream",
     "text": [
      "Table Name:productlines\n",
      "Table Description:Stores information about the different product lines offered by the company, including a unique name, textual description, HTML description, and image. Categorizes products into different lines.\n",
      "\n",
      "Table Name:products\n",
      "Table Description:Contains details of each product sold by the company, including code, name, product line, scale, vendor, description, stock quantity, buy price, and MSRP. Linked to the productlines table.\n",
      "\n",
      "Table Name:offices\n",
      "Table Description:Holds data on the company's sales offices, including office code, city, phone number, address, state, country, postal code, and territory. Each office is uniquely identified by its office code.\n",
      "\n",
      "Table Name:employees\n",
      "Table Description:Stores information about employees, including number, last name, first name, job title, contact info, and office code. Links to offices and maps organizational structure through the reportsTo attribute.\n",
      "\n",
      "Table Name:customers\n",
      "Table Description:Captures data on customers, including customer number, name, contact details, address, assigned sales rep, and credit limit. Central to managing customer relationships and sales processes.\n",
      "\n",
      "Table Name:payments\n",
      "Table Description:Records payments made by customers, tracking the customer number, check number, payment date, and amount. Linked to the customers table for financial tracking and account management.\n",
      "\n",
      "Table Name:orders\n",
      "Table Description:Details each sales order placed by customers, including order number, dates, status, comments, and customer number. Linked to the customers table, tracking sales transactions.\n",
      "\n",
      "Table Name:orderdetails\n",
      "Table Description:Describes individual line items for each sales order, including order number, product code, quantity, price, and order line number. Links orders to products, detailing the items sold.\n",
      "\n",
      "\n"
     ]
    }
   ],
   "source": [
    "from operator import itemgetter\n",
    "from langchain.chains.openai_tools import create_extraction_chain_pydantic\n",
    "from langchain_core.pydantic_v1 import BaseModel, Field\n",
    "from typing import List\n",
    "import pandas as pd\n",
    "\n",
    "def get_table_details():\n",
    "    # Read the CSV file into a DataFrame\n",
    "    table_description = pd.read_csv(\"database_table_descriptions.csv\")\n",
    "    table_docs = []\n",
    "\n",
    "    # Iterate over the DataFrame rows to create Document objects\n",
    "    table_details = \"\"\n",
    "    for index, row in table_description.iterrows():\n",
    "        table_details = table_details + \"Table Name:\" + row['Table'] + \"\\n\" + \"Table Description:\" + row['Description'] + \"\\n\\n\"\n",
    "\n",
    "    return table_details\n",
    "\n",
    "\n",
    "class Table(BaseModel):\n",
    "    \"\"\"Table in SQL database.\"\"\"\n",
    "\n",
    "    name: str = Field(description=\"Name of table in SQL database.\")\n",
    "\n",
    "# table_names = \"\\n\".join(db.get_usable_table_names())\n",
    "table_details = get_table_details()\n",
    "print(table_details)"
   ]
  },
  {
   "cell_type": "code",
   "execution_count": 68,
   "metadata": {},
   "outputs": [
    {
     "data": {
      "text/plain": [
       "[Table(name='customers'), Table(name='orders')]"
      ]
     },
     "execution_count": 68,
     "metadata": {},
     "output_type": "execute_result"
    }
   ],
   "source": [
    "\n",
    "table_details_prompt = f\"\"\"Return the names of ALL the SQL tables that MIGHT be relevant to the user question. \\\n",
    "The tables are:\n",
    "\n",
    "{table_details}\n",
    "\n",
    "Remember to include ALL POTENTIALLY RELEVANT tables, even if you're not sure that they're needed.\"\"\"\n",
    "\n",
    "table_chain = create_extraction_chain_pydantic(Table, llm, system_message=table_details_prompt)\n",
    "tables = table_chain.invoke({\"input\": \"give me details of customer and their order count\"})\n",
    "tables"
   ]
  },
  {
   "cell_type": "code",
   "execution_count": 70,
   "metadata": {},
   "outputs": [
    {
     "data": {
      "text/plain": [
       "['customers', 'orders']"
      ]
     },
     "execution_count": 70,
     "metadata": {},
     "output_type": "execute_result"
    }
   ],
   "source": [
    "\n",
    "def get_tables(tables: List[Table]) -> List[str]:\n",
    "    tables  = [table.name for table in tables]\n",
    "    return tables\n",
    "\n",
    "select_table = {\"input\": itemgetter(\"question\")} | create_extraction_chain_pydantic(Table, llm, system_message=table_details_prompt) | get_tables\n",
    "select_table.invoke({\"question\": \"give me details of customer and their order count\"})"
   ]
  },
  {
   "cell_type": "code",
   "execution_count": 71,
   "metadata": {},
   "outputs": [
    {
     "data": {
      "text/plain": [
       "'There are 2 customers with more than 5 orders.\\n\\n| customersWithMoreThan5Orders |\\n|------------------------------|\\n|              2               |'"
      ]
     },
     "execution_count": 71,
     "metadata": {},
     "output_type": "execute_result"
    }
   ],
   "source": [
    "chain = (\n",
    "RunnablePassthrough.assign(table_names_to_use=select_table) |\n",
    "RunnablePassthrough.assign(query=generate_query).assign(\n",
    "    result=itemgetter(\"query\") | execute_query\n",
    ")\n",
    "| rephrase_answer\n",
    ")\n",
    "chain.invoke({\"question\": \"How many cutomers with order count more than 5\"})"
   ]
  },
  {
   "cell_type": "code",
   "execution_count": 72,
   "metadata": {},
   "outputs": [
    {
     "data": {
      "text/plain": [
       "\"Yes, the names of the customers from Australia are:\\n| customerName                |\\n|-----------------------------|\\n| Australian Collectors, Co.  |\\n| Anna's Decorations, Ltd     |\\n| Souveniers And Things Co.   |\\n| Australian Gift Network, Co |\\n| Australian Collectables, Ltd|\""
      ]
     },
     "execution_count": 72,
     "metadata": {},
     "output_type": "execute_result"
    }
   ],
   "source": [
    "\n",
    "chain.invoke({\"question\": \"Can you list their names?\"})"
   ]
  },
  {
   "cell_type": "markdown",
   "metadata": {},
   "source": [
    "#### Adding Memory"
   ]
  },
  {
   "cell_type": "code",
   "execution_count": 29,
   "metadata": {},
   "outputs": [
    {
     "name": "stdout",
     "output_type": "stream",
     "text": [
      "System: You are a MySQL expert. Given an input question, create a syntactically correct MySQL query to run. Unless otherwise specificed.\n",
      "\n",
      "Here is the relevant table info: some table info\n",
      "\n",
      "Below are a number of examples of questions and their corresponding SQL queries. Those examples are just for referecne and hsould be considered while answering follow up questions\n",
      "Human: Find the total sales amount for each product.\n",
      "SQLQuery:\n",
      "AI: SELECT productName, SUM(orderdetails.priceEach * orderdetails.quantityOrdered) AS totalSales                    FROM products                    JOIN orderdetails ON products.productCode = orderdetails.productCode                    GROUP BY productName;\n",
      "Human: Get the number of orders placed by each customer.\n",
      "SQLQuery:\n",
      "AI: SELECT customerName, COUNT(*) AS totalOrders                    FROM customers                    JOIN orders ON customers.customerNumber = orders.customerNumber                    GROUP BY customerName;\n",
      "Human: How many products are there?\n"
     ]
    }
   ],
   "source": [
    "final_prompt = ChatPromptTemplate.from_messages(\n",
    "    [\n",
    "        (\"system\", \"You are a MySQL expert. Given an input question, create a syntactically correct MySQL query to run. Unless otherwise specificed.\\n\\nHere is the relevant table info: {table_info}\\n\\nBelow are a number of examples of questions and their corresponding SQL queries. Those examples are just for referecne and hsould be considered while answering follow up questions\"),\n",
    "        few_shot_prompt,\n",
    "        MessagesPlaceholder(variable_name=\"messages\"),\n",
    "        (\"human\", \"{input}\"),\n",
    "    ]\n",
    ")\n",
    "print(final_prompt.format(input=\"How many products are there?\",table_info=\"some table info\",messages=[]))"
   ]
  },
  {
   "cell_type": "code",
   "execution_count": 30,
   "metadata": {},
   "outputs": [],
   "source": [
    "\n",
    "from langchain.memory import ChatMessageHistory\n",
    "history = ChatMessageHistory()\n",
    "\n",
    "generate_query = create_sql_query_chain(llm, db,final_prompt)\n",
    "\n",
    "chain = (\n",
    "RunnablePassthrough.assign(table_names_to_use=select_table) |\n",
    "RunnablePassthrough.assign(query=generate_query).assign(\n",
    "    result=itemgetter(\"query\") | execute_query\n",
    ")\n",
    "| rephrase_answer\n",
    ")"
   ]
  },
  {
   "cell_type": "code",
   "execution_count": 31,
   "metadata": {},
   "outputs": [
    {
     "data": {
      "text/plain": [
       "'There are 2 customers with more than 5 orders.'"
      ]
     },
     "execution_count": 31,
     "metadata": {},
     "output_type": "execute_result"
    }
   ],
   "source": [
    "\n",
    "question = \"How many cutomers with order count more than 5\"\n",
    "response = chain.invoke({\"question\": question,\"messages\":history.messages})\n",
    "response"
   ]
  },
  {
   "cell_type": "code",
   "execution_count": 32,
   "metadata": {},
   "outputs": [],
   "source": [
    "history.add_user_message(question)\n",
    "history.add_ai_message(response)"
   ]
  },
  {
   "cell_type": "code",
   "execution_count": 33,
   "metadata": {},
   "outputs": [
    {
     "data": {
      "text/plain": [
       "[HumanMessage(content='How many cutomers with order count more than 5'),\n",
       " AIMessage(content='There are 2 customers with more than 5 orders.')]"
      ]
     },
     "execution_count": 33,
     "metadata": {},
     "output_type": "execute_result"
    }
   ],
   "source": [
    "\n",
    "history.messages"
   ]
  },
  {
   "cell_type": "code",
   "execution_count": 34,
   "metadata": {},
   "outputs": [
    {
     "data": {
      "text/plain": [
       "\"The names of the customers with more than 5 orders are 'Mini Gifts Distributors Ltd.' and 'Euro+ Shopping Channel'.\""
      ]
     },
     "execution_count": 34,
     "metadata": {},
     "output_type": "execute_result"
    }
   ],
   "source": [
    "response = chain.invoke({\"question\": \"Can you list there names?\",\"messages\":history.messages})\n",
    "response"
   ]
  }
 ],
 "metadata": {
  "kernelspec": {
   "display_name": "Python 3",
   "language": "python",
   "name": "python3"
  },
  "language_info": {
   "codemirror_mode": {
    "name": "ipython",
    "version": 3
   },
   "file_extension": ".py",
   "mimetype": "text/x-python",
   "name": "python",
   "nbconvert_exporter": "python",
   "pygments_lexer": "ipython3",
   "version": "3.10.14"
  }
 },
 "nbformat": 4,
 "nbformat_minor": 2
}
