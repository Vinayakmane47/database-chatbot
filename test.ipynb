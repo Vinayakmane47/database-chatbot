{
 "cells": [
  {
   "cell_type": "code",
   "execution_count": 1,
   "metadata": {},
   "outputs": [
    {
     "name": "stdout",
     "output_type": "stream",
     "text": [
      "hellow\n"
     ]
    }
   ],
   "source": [
    "print(\"hellow\")"
   ]
  },
  {
   "cell_type": "code",
   "execution_count": 1,
   "metadata": {},
   "outputs": [
    {
     "name": "stdout",
     "output_type": "stream",
     "text": [
      "Error: not authorized on admin to execute command { serverStatus: 1, lsid: { id: UUID(\"1314e469-8a9b-4312-bc37-42a01f5458b3\") }, $db: \"admin\" }, full error: {'ok': 0.0, 'errmsg': 'not authorized on admin to execute command { serverStatus: 1, lsid: { id: UUID(\"1314e469-8a9b-4312-bc37-42a01f5458b3\") }, $db: \"admin\" }', 'code': 13, 'codeName': 'Unauthorized'}\n"
     ]
    }
   ],
   "source": []
  }
 ],
 "metadata": {
  "kernelspec": {
   "display_name": "Python 3",
   "language": "python",
   "name": "python3"
  },
  "language_info": {
   "codemirror_mode": {
    "name": "ipython",
    "version": 3
   },
   "file_extension": ".py",
   "mimetype": "text/x-python",
   "name": "python",
   "nbconvert_exporter": "python",
   "pygments_lexer": "ipython3",
   "version": "3.10.14"
  }
 },
 "nbformat": 4,
 "nbformat_minor": 2
}
